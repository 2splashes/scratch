{
 "cells": [
  {
   "cell_type": "code",
   "execution_count": 2,
   "metadata": {
    "collapsed": true
   },
   "outputs": [],
   "source": [
    "import pandas as pd\n",
    "import json\n",
    "import numpy as np"
   ]
  },
  {
   "cell_type": "markdown",
   "metadata": {},
   "source": [
    "# loading the lending club loans dataset"
   ]
  },
  {
   "cell_type": "code",
   "execution_count": 3,
   "metadata": {
    "collapsed": false
   },
   "outputs": [
    {
     "name": "stderr",
     "output_type": "stream",
     "text": [
      "//anaconda/lib/python3.5/site-packages/IPython/core/interactiveshell.py:2902: DtypeWarning: Columns (19,47) have mixed types. Specify dtype option on import or set low_memory=False.\n",
      "  interactivity=interactivity, compiler=compiler, result=result)\n"
     ]
    }
   ],
   "source": [
    "loans = pd.read_csv('lending-club-data.csv')\n",
    "loans['safe_loans'] = loans['bad_loans'].apply(lambda x : +1 if x==0 else -1)\n",
    "loans = loans.drop('bad_loans', axis=1)\n",
    "\n",
    "with open('module-5-assignment-2-train-idx.json','r') as f:\n",
    "    train_idx_list = json.load(f)\n",
    "train_idx = [int(i) for i in train_idx_list]\n",
    "\n",
    "with open('module-5-assignment-2-test-idx.json', 'r') as f:\n",
    "    test_idx_list = json.load(f)\n",
    "test_idx = [int(i) for i in test_idx_list]"
   ]
  },
  {
   "cell_type": "markdown",
   "metadata": {},
   "source": [
    "# data preparation"
   ]
  },
  {
   "cell_type": "code",
   "execution_count": 5,
   "metadata": {
    "collapsed": true
   },
   "outputs": [],
   "source": [
    "features = ['grade',              # grade of the loan\n",
    "            'term',               # the term of the loan\n",
    "            'home_ownership',     # home_ownership status: own, mortgage or rent\n",
    "            'emp_length',         # number of years of employment\n",
    "           ]\n",
    "target = 'safe_loans'\n",
    "\n",
    "loans = loans[features + [target]]"
   ]
  },
  {
   "cell_type": "code",
   "execution_count": 16,
   "metadata": {
    "collapsed": false
   },
   "outputs": [],
   "source": [
    "# one-hot encoding\n",
    "loans_data = pd.get_dummies(loans[features], prefix=features, prefix_sep='.')\n",
    "loans_data = pd.concat([loans_data, loans[target]], axis=1)"
   ]
  },
  {
   "cell_type": "code",
   "execution_count": 17,
   "metadata": {
    "collapsed": false
   },
   "outputs": [
    {
     "data": {
      "text/plain": [
       "25"
      ]
     },
     "execution_count": 17,
     "metadata": {},
     "output_type": "execute_result"
    }
   ],
   "source": [
    "len(loans_data.columns[:-1]) # number of features (i.e. excl. target)"
   ]
  },
  {
   "cell_type": "code",
   "execution_count": 92,
   "metadata": {
    "collapsed": true
   },
   "outputs": [],
   "source": [
    "binary_features = list(loans_data.columns[:-1])\n",
    "train_data = loans_data.iloc[train_idx]\n",
    "test_data = loans_data.iloc[test_idx]"
   ]
  },
  {
   "cell_type": "code",
   "execution_count": 117,
   "metadata": {
    "collapsed": false
   },
   "outputs": [
    {
     "data": {
      "text/plain": [
       "Index(['grade.A', 'grade.B', 'grade.C', 'grade.D', 'grade.E', 'grade.F',\n",
       "       'grade.G', 'term. 36 months', 'term. 60 months',\n",
       "       'home_ownership.MORTGAGE', 'home_ownership.OTHER', 'home_ownership.OWN',\n",
       "       'home_ownership.RENT', 'emp_length.1 year', 'emp_length.10+ years',\n",
       "       'emp_length.2 years', 'emp_length.3 years', 'emp_length.4 years',\n",
       "       'emp_length.5 years', 'emp_length.6 years', 'emp_length.7 years',\n",
       "       'emp_length.8 years', 'emp_length.9 years', 'emp_length.< 1 year',\n",
       "       'emp_length.n/a', 'safe_loans'],\n",
       "      dtype='object')"
      ]
     },
     "execution_count": 117,
     "metadata": {},
     "output_type": "execute_result"
    }
   ],
   "source": [
    "train_data.columns"
   ]
  },
  {
   "cell_type": "code",
   "execution_count": 94,
   "metadata": {
    "collapsed": false
   },
   "outputs": [
    {
     "data": {
      "text/plain": [
       "['grade.A',\n",
       " 'grade.B',\n",
       " 'grade.C',\n",
       " 'grade.D',\n",
       " 'grade.E',\n",
       " 'grade.F',\n",
       " 'grade.G',\n",
       " 'term. 36 months',\n",
       " 'term. 60 months',\n",
       " 'home_ownership.MORTGAGE',\n",
       " 'home_ownership.OTHER',\n",
       " 'home_ownership.OWN',\n",
       " 'home_ownership.RENT',\n",
       " 'emp_length.1 year',\n",
       " 'emp_length.10+ years',\n",
       " 'emp_length.2 years',\n",
       " 'emp_length.3 years',\n",
       " 'emp_length.4 years',\n",
       " 'emp_length.5 years',\n",
       " 'emp_length.6 years',\n",
       " 'emp_length.7 years',\n",
       " 'emp_length.8 years',\n",
       " 'emp_length.9 years',\n",
       " 'emp_length.< 1 year',\n",
       " 'emp_length.n/a']"
      ]
     },
     "execution_count": 94,
     "metadata": {},
     "output_type": "execute_result"
    }
   ],
   "source": [
    "binary_features"
   ]
  },
  {
   "cell_type": "markdown",
   "metadata": {},
   "source": [
    "# implementing a binary decision tree"
   ]
  },
  {
   "cell_type": "code",
   "execution_count": 1,
   "metadata": {
    "collapsed": true
   },
   "outputs": [],
   "source": [
    "class Btree_Model(object):\n",
    "    '''\n",
    "    An implementation of binary decision trees. Works only for binary features.\n",
    "    An instance of the class is a model - in order to create the tree, use the create method, which returns the tree as a recursive dictionary. Hence, the instance (model) can be used to create several trees.\n",
    "    Note that only the last tree is stored as an attribute.\n",
    "    \n",
    "    The model is equipped with classification and node count methods, but a tree must be passed to each.\n",
    "    '''\n",
    "    def __init__(self, max_depth=10):\n",
    "        self.max_depth = max_depth\n",
    "        self.tree = None\n",
    "        print('A binary decision tree of max depth %d is initiated.' %(self.max_depth))\n",
    "    \n",
    "    @staticmethod\n",
    "    def intermediate_node_num_mistakes(labels_in_node):\n",
    "        if len(labels_in_node) == 0: return 0  \n",
    "        labels_in_node = np.array(labels_in_node)\n",
    "        num_positive = np.sum(labels_in_node==1)\n",
    "        num_negative = np.sum(labels_in_node==-1)\n",
    "        \n",
    "        # Classification is by the majority rule, hence the minority class encompasses all mistakes\n",
    "        num_mistakes = min(num_positive, num_negative)\n",
    "        return num_mistakes\n",
    "    \n",
    "    @staticmethod\n",
    "    def best_splitting_feature(data, features, target):\n",
    "        assert type(features)==list and type(target)==str, \"Features must be a list, and target must be a string.\"\n",
    "        target_values = data[target]\n",
    "        best_feature = None # Keep track of the best feature \n",
    "        best_error = 10     # Keep track of the best error so far\n",
    "        \n",
    "        # num_data_points = float(len(data)) # float division not an issue in Python 3\n",
    "        \n",
    "        for feature in features:\n",
    "            # 1. Split on the binary feature\n",
    "            left_split = data[data[feature] == 0]\n",
    "            right_split = data[data[feature] == 1]\n",
    "            \n",
    "            # 2. Calculate the number of misclassified examples\n",
    "            left_mistakes = Btree_Model.intermediate_node_num_mistakes(left_split[target])\n",
    "            right_mistakes = Btree_Model.intermediate_node_num_mistakes(right_split[target])\n",
    "            \n",
    "            # 3. Calculate classification error for the split on this feature\n",
    "            error = (left_mistakes + right_mistakes) / data.shape[0]\n",
    "            \n",
    "            # 4. Track the best feature\n",
    "            if error <= best_error:\n",
    "                best_feature = feature\n",
    "                best_error = error\n",
    "        return best_feature\n",
    "    \n",
    "    @staticmethod\n",
    "    def create_leaf(target_values):\n",
    "        '''\n",
    "        Each node in the decision tree is represented as a dictionary.\n",
    "        '''\n",
    "        leaf = {'splitting_feature' : None,\n",
    "            'left' : None,\n",
    "            'right' : None,\n",
    "            'is_leaf': True}\n",
    "        \n",
    "        num_ones = len(target_values[target_values == +1])\n",
    "        num_minus_ones = len(target_values[target_values == -1])\n",
    "        \n",
    "        if num_ones > num_minus_ones:\n",
    "            leaf['prediction'] = +1\n",
    "        else:\n",
    "            leaf['prediction'] = -1\n",
    "        \n",
    "        return leaf\n",
    "    \n",
    "    def create(self, data, features, target, current_depth = 0):\n",
    "        '''\n",
    "        A recursive greedy algorithm to build the binary decision tree. \n",
    "        Max depth is stored as an attribute of the instance.\n",
    "        '''\n",
    "        self.target = target\n",
    "        self.features = features\n",
    "        remaining_features = list(features)\n",
    "        target_values = data[target]\n",
    "        print(\"--------------------------------------------------------------------\")\n",
    "        print(\"Subtree, depth = %s (%s data points).\" % (current_depth, len(target_values)))\n",
    "        \n",
    "        # A recursive algorithm, hence we define stopping conditions\n",
    "        \n",
    "        if Btree_Model.intermediate_node_num_mistakes(target_values) == 0:\n",
    "            print(\"Stopping condition 1 (single class node) reached.\")     \n",
    "            # If no mistakes at current node, make current node a leaf node\n",
    "            return Btree_Model.create_leaf(target_values)\n",
    "        \n",
    "        if len(remaining_features) == 0:\n",
    "            print(\"Stopping condition 2 (no more features) reached.\")     \n",
    "            return Btree_Model.create_leaf(target_values)\n",
    "        \n",
    "        if current_depth >= self.max_depth:\n",
    "            print(\"Stopping condition 3 (max depth) reached.\")     \n",
    "            return Btree_Model.create_leaf(target_values)\n",
    "        \n",
    "        # Determine best feature to split on\n",
    "        splitting_feature = Btree_Model.best_splitting_feature(data, \n",
    "                                        remaining_features, target)\n",
    "        \n",
    "        # Split the node\n",
    "        left_split = data[data[splitting_feature] == 0]\n",
    "        right_split = data[data[splitting_feature] == 1]\n",
    "        remaining_features.remove(splitting_feature)\n",
    "        print(\"Split on feature %s. (%d, %d)\" % (\\\n",
    "                      splitting_feature, len(left_split), len(right_split)))\n",
    "        \n",
    "        # If a split generates an empty node (i.e., all data goes to either left or right)\n",
    "        if len(left_split) == len(data):\n",
    "            print(\"Creating leaf node.\")\n",
    "            return Btree_Model.create_leaf(left_split[target])\n",
    "        if len(right_split) == len(data):\n",
    "            print(\"Creating leaf node.\")\n",
    "            return Btree_Model.create_leaf(right_split[target])\n",
    "        \n",
    "        left_tree = self.create(left_split, remaining_features, \n",
    "                                target, current_depth+1)\n",
    "        right_tree = self.create(right_split, remaining_features, \n",
    "                                 target, current_depth+1)\n",
    "        \n",
    "        self.tree = {'is_leaf'          : False, \n",
    "                    'prediction'       : None,\n",
    "                    'splitting_feature': splitting_feature,\n",
    "                    'left'             : left_tree, \n",
    "                    'right'            : right_tree}\n",
    "        \n",
    "        \n",
    "        return self.tree\n",
    "    \n",
    "    def classify(self, tree, obs, annotate=False):\n",
    "        '''\n",
    "        Classifies an observation (array-like of inputs) by traversing the \n",
    "        '''\n",
    "        if tree['is_leaf']:\n",
    "            if annotate:\n",
    "                print(\"At leaf, predicting %s\" %(tree['prediction']))\n",
    "            return tree['prediction']\n",
    "        else:\n",
    "            split_feature_value = obs[tree['splitting_feature']]\n",
    "            if annotate:\n",
    "                print(\"Split on %s = %s\" % (tree['splitting_feature'], \n",
    "                                            split_feature_value))\n",
    "            if split_feature_value == 0:\n",
    "                return self.classify(tree['left'], obs, annotate)\n",
    "            else:\n",
    "                return self.classify(tree['right'], obs, annotate)\n",
    "    \n",
    "    def count_nodes(self, tree):\n",
    "        if tree['is_leaf']:\n",
    "            return 1\n",
    "        return 1 + self.count_nodes(tree['left']) + self.count_nodes(tree['right'])"
   ]
  },
  {
   "cell_type": "code",
   "execution_count": 167,
   "metadata": {
    "collapsed": false
   },
   "outputs": [
    {
     "name": "stdout",
     "output_type": "stream",
     "text": [
      "grade.A                    0.0\n",
      "grade.B                    0.0\n",
      "grade.C                    0.0\n",
      "grade.D                    1.0\n",
      "grade.E                    0.0\n",
      "grade.F                    0.0\n",
      "grade.G                    0.0\n",
      "term. 36 months            0.0\n",
      "term. 60 months            1.0\n",
      "home_ownership.MORTGAGE    0.0\n",
      "home_ownership.OTHER       0.0\n",
      "home_ownership.OWN         0.0\n",
      "home_ownership.RENT        1.0\n",
      "emp_length.1 year          0.0\n",
      "emp_length.10+ years       0.0\n",
      "emp_length.2 years         1.0\n",
      "emp_length.3 years         0.0\n",
      "emp_length.4 years         0.0\n",
      "emp_length.5 years         0.0\n",
      "emp_length.6 years         0.0\n",
      "emp_length.7 years         0.0\n",
      "emp_length.8 years         0.0\n",
      "emp_length.9 years         0.0\n",
      "emp_length.< 1 year        0.0\n",
      "emp_length.n/a             0.0\n",
      "safe_loans                -1.0\n",
      "Name: 24, dtype: float64\n"
     ]
    }
   ],
   "source": [
    "print(test_data.iloc[0])"
   ]
  },
  {
   "cell_type": "code",
   "execution_count": 168,
   "metadata": {
    "collapsed": false
   },
   "outputs": [
    {
     "name": "stdout",
     "output_type": "stream",
     "text": [
      "A binary decision tree of max depth 6 is initiated.\n"
     ]
    }
   ],
   "source": [
    "binary_dtree_model = Btree_Model(max_depth=6)"
   ]
  },
  {
   "cell_type": "code",
   "execution_count": 169,
   "metadata": {
    "collapsed": false
   },
   "outputs": [
    {
     "name": "stdout",
     "output_type": "stream",
     "text": [
      "--------------------------------------------------------------------\n",
      "Subtree, depth = 0 (37224 data points).\n",
      "Split on feature term. 60 months. (28001, 9223)\n",
      "--------------------------------------------------------------------\n",
      "Subtree, depth = 1 (28001 data points).\n",
      "Split on feature grade.D. (23300, 4701)\n",
      "--------------------------------------------------------------------\n",
      "Subtree, depth = 2 (23300 data points).\n",
      "Split on feature grade.E. (22024, 1276)\n",
      "--------------------------------------------------------------------\n",
      "Subtree, depth = 3 (22024 data points).\n",
      "Split on feature grade.F. (21666, 358)\n",
      "--------------------------------------------------------------------\n",
      "Subtree, depth = 4 (21666 data points).\n",
      "Split on feature emp_length.n/a. (20734, 932)\n",
      "--------------------------------------------------------------------\n",
      "Subtree, depth = 5 (20734 data points).\n",
      "Split on feature grade.G. (20638, 96)\n",
      "--------------------------------------------------------------------\n",
      "Subtree, depth = 6 (20638 data points).\n",
      "Stopping condition 3 (max depth) reached.\n",
      "--------------------------------------------------------------------\n",
      "Subtree, depth = 6 (96 data points).\n",
      "Stopping condition 3 (max depth) reached.\n",
      "--------------------------------------------------------------------\n",
      "Subtree, depth = 5 (932 data points).\n",
      "Split on feature grade.A. (702, 230)\n",
      "--------------------------------------------------------------------\n",
      "Subtree, depth = 6 (702 data points).\n",
      "Stopping condition 3 (max depth) reached.\n",
      "--------------------------------------------------------------------\n",
      "Subtree, depth = 6 (230 data points).\n",
      "Stopping condition 3 (max depth) reached.\n",
      "--------------------------------------------------------------------\n",
      "Subtree, depth = 4 (358 data points).\n",
      "Split on feature emp_length.8 years. (347, 11)\n",
      "--------------------------------------------------------------------\n",
      "Subtree, depth = 5 (347 data points).\n",
      "Split on feature emp_length.n/a. (330, 17)\n",
      "--------------------------------------------------------------------\n",
      "Subtree, depth = 6 (330 data points).\n",
      "Stopping condition 3 (max depth) reached.\n",
      "--------------------------------------------------------------------\n",
      "Subtree, depth = 6 (17 data points).\n",
      "Stopping condition 3 (max depth) reached.\n",
      "--------------------------------------------------------------------\n",
      "Subtree, depth = 5 (11 data points).\n",
      "Split on feature home_ownership.OWN. (9, 2)\n",
      "--------------------------------------------------------------------\n",
      "Subtree, depth = 6 (9 data points).\n",
      "Stopping condition 3 (max depth) reached.\n",
      "--------------------------------------------------------------------\n",
      "Subtree, depth = 6 (2 data points).\n",
      "Stopping condition 1 (single class node) reached.\n",
      "--------------------------------------------------------------------\n",
      "Subtree, depth = 3 (1276 data points).\n",
      "Split on feature emp_length.n/a. (1215, 61)\n",
      "--------------------------------------------------------------------\n",
      "Subtree, depth = 4 (1215 data points).\n",
      "Split on feature emp_length.< 1 year. (1066, 149)\n",
      "--------------------------------------------------------------------\n",
      "Subtree, depth = 5 (1066 data points).\n",
      "Split on feature emp_length.9 years. (1024, 42)\n",
      "--------------------------------------------------------------------\n",
      "Subtree, depth = 6 (1024 data points).\n",
      "Stopping condition 3 (max depth) reached.\n",
      "--------------------------------------------------------------------\n",
      "Subtree, depth = 6 (42 data points).\n",
      "Stopping condition 3 (max depth) reached.\n",
      "--------------------------------------------------------------------\n",
      "Subtree, depth = 5 (149 data points).\n",
      "Split on feature emp_length.9 years. (149, 0)\n",
      "Creating leaf node.\n",
      "--------------------------------------------------------------------\n",
      "Subtree, depth = 4 (61 data points).\n",
      "Split on feature emp_length.< 1 year. (61, 0)\n",
      "Creating leaf node.\n",
      "--------------------------------------------------------------------\n",
      "Subtree, depth = 2 (4701 data points).\n",
      "Split on feature emp_length.n/a. (4494, 207)\n",
      "--------------------------------------------------------------------\n",
      "Subtree, depth = 3 (4494 data points).\n",
      "Split on feature emp_length.< 1 year. (4052, 442)\n",
      "--------------------------------------------------------------------\n",
      "Subtree, depth = 4 (4052 data points).\n",
      "Split on feature emp_length.9 years. (3900, 152)\n",
      "--------------------------------------------------------------------\n",
      "Subtree, depth = 5 (3900 data points).\n",
      "Split on feature emp_length.8 years. (3697, 203)\n",
      "--------------------------------------------------------------------\n",
      "Subtree, depth = 6 (3697 data points).\n",
      "Stopping condition 3 (max depth) reached.\n",
      "--------------------------------------------------------------------\n",
      "Subtree, depth = 6 (203 data points).\n",
      "Stopping condition 3 (max depth) reached.\n",
      "--------------------------------------------------------------------\n",
      "Subtree, depth = 5 (152 data points).\n",
      "Split on feature home_ownership.MORTGAGE. (89, 63)\n",
      "--------------------------------------------------------------------\n",
      "Subtree, depth = 6 (89 data points).\n",
      "Stopping condition 3 (max depth) reached.\n",
      "--------------------------------------------------------------------\n",
      "Subtree, depth = 6 (63 data points).\n",
      "Stopping condition 3 (max depth) reached.\n",
      "--------------------------------------------------------------------\n",
      "Subtree, depth = 4 (442 data points).\n",
      "Split on feature emp_length.9 years. (442, 0)\n",
      "Creating leaf node.\n",
      "--------------------------------------------------------------------\n",
      "Subtree, depth = 3 (207 data points).\n",
      "Split on feature emp_length.< 1 year. (207, 0)\n",
      "Creating leaf node.\n",
      "--------------------------------------------------------------------\n",
      "Subtree, depth = 1 (9223 data points).\n",
      "Split on feature grade.A. (9122, 101)\n",
      "--------------------------------------------------------------------\n",
      "Subtree, depth = 2 (9122 data points).\n",
      "Split on feature emp_length.n/a. (8901, 221)\n",
      "--------------------------------------------------------------------\n",
      "Subtree, depth = 3 (8901 data points).\n",
      "Split on feature emp_length.< 1 year. (8222, 679)\n",
      "--------------------------------------------------------------------\n",
      "Subtree, depth = 4 (8222 data points).\n",
      "Split on feature emp_length.9 years. (7835, 387)\n",
      "--------------------------------------------------------------------\n",
      "Subtree, depth = 5 (7835 data points).\n",
      "Split on feature emp_length.8 years. (7415, 420)\n",
      "--------------------------------------------------------------------\n",
      "Subtree, depth = 6 (7415 data points).\n",
      "Stopping condition 3 (max depth) reached.\n",
      "--------------------------------------------------------------------\n",
      "Subtree, depth = 6 (420 data points).\n",
      "Stopping condition 3 (max depth) reached.\n",
      "--------------------------------------------------------------------\n",
      "Subtree, depth = 5 (387 data points).\n",
      "Split on feature home_ownership.OTHER. (386, 1)\n",
      "--------------------------------------------------------------------\n",
      "Subtree, depth = 6 (386 data points).\n",
      "Stopping condition 3 (max depth) reached.\n",
      "--------------------------------------------------------------------\n",
      "Subtree, depth = 6 (1 data points).\n",
      "Stopping condition 1 (single class node) reached.\n",
      "--------------------------------------------------------------------\n",
      "Subtree, depth = 4 (679 data points).\n",
      "Split on feature emp_length.9 years. (679, 0)\n",
      "Creating leaf node.\n",
      "--------------------------------------------------------------------\n",
      "Subtree, depth = 3 (221 data points).\n",
      "Split on feature emp_length.< 1 year. (221, 0)\n",
      "Creating leaf node.\n",
      "--------------------------------------------------------------------\n",
      "Subtree, depth = 2 (101 data points).\n",
      "Split on feature emp_length.n/a. (96, 5)\n",
      "--------------------------------------------------------------------\n",
      "Subtree, depth = 3 (96 data points).\n",
      "Split on feature emp_length.< 1 year. (85, 11)\n",
      "--------------------------------------------------------------------\n",
      "Subtree, depth = 4 (85 data points).\n",
      "Split on feature emp_length.9 years. (84, 1)\n",
      "--------------------------------------------------------------------\n",
      "Subtree, depth = 5 (84 data points).\n",
      "Split on feature emp_length.8 years. (76, 8)\n",
      "--------------------------------------------------------------------\n",
      "Subtree, depth = 6 (76 data points).\n",
      "Stopping condition 3 (max depth) reached.\n",
      "--------------------------------------------------------------------\n",
      "Subtree, depth = 6 (8 data points).\n",
      "Stopping condition 3 (max depth) reached.\n",
      "--------------------------------------------------------------------\n",
      "Subtree, depth = 5 (1 data points).\n",
      "Stopping condition 1 (single class node) reached.\n",
      "--------------------------------------------------------------------\n",
      "Subtree, depth = 4 (11 data points).\n",
      "Split on feature emp_length.9 years. (11, 0)\n",
      "Creating leaf node.\n",
      "--------------------------------------------------------------------\n",
      "Subtree, depth = 3 (5 data points).\n",
      "Split on feature emp_length.< 1 year. (5, 0)\n",
      "Creating leaf node.\n"
     ]
    }
   ],
   "source": [
    "my_decision_tree = binary_dtree_model.create(train_data, binary_features, target)"
   ]
  },
  {
   "cell_type": "code",
   "execution_count": 170,
   "metadata": {
    "collapsed": false
   },
   "outputs": [
    {
     "name": "stdout",
     "output_type": "stream",
     "text": [
      "Split on term. 60 months = 1.0\n",
      "Split on grade.A = 0.0\n",
      "Split on emp_length.n/a = 0.0\n",
      "Split on emp_length.< 1 year = 0.0\n",
      "Split on emp_length.9 years = 0.0\n",
      "Split on emp_length.8 years = 0.0\n",
      "At leaf, predicting -1\n"
     ]
    },
    {
     "data": {
      "text/plain": [
       "-1"
      ]
     },
     "execution_count": 170,
     "metadata": {},
     "output_type": "execute_result"
    }
   ],
   "source": [
    "binary_dtree_model.classify(my_decision_tree, test_data.iloc[0], annotate=True)"
   ]
  },
  {
   "cell_type": "code",
   "execution_count": 197,
   "metadata": {
    "collapsed": false
   },
   "outputs": [
    {
     "data": {
      "text/plain": [
       "-1"
      ]
     },
     "execution_count": 197,
     "metadata": {},
     "output_type": "execute_result"
    }
   ],
   "source": [
    "test_data[target].iloc[0]"
   ]
  },
  {
   "cell_type": "markdown",
   "metadata": {},
   "source": [
    "# evaluating classification error"
   ]
  },
  {
   "cell_type": "code",
   "execution_count": 187,
   "metadata": {
    "collapsed": true
   },
   "outputs": [],
   "source": [
    "def evaluate_classification_error(model, tree, data):\n",
    "    predictions = data.apply(lambda x: model.classify(tree, x), axis=1)\n",
    "    accuracy = np.sum(predictions==data[model.target])/data.shape[0]\n",
    "    return 1-accuracy"
   ]
  },
  {
   "cell_type": "code",
   "execution_count": 188,
   "metadata": {
    "collapsed": false
   },
   "outputs": [
    {
     "data": {
      "text/plain": [
       "0.38367083153813009"
      ]
     },
     "execution_count": 188,
     "metadata": {},
     "output_type": "execute_result"
    }
   ],
   "source": [
    "evaluate_classification_error(binary_dtree_model, my_decision_tree, test_data)"
   ]
  },
  {
   "cell_type": "code",
   "execution_count": 174,
   "metadata": {
    "collapsed": false
   },
   "outputs": [],
   "source": [
    "def print_stump(tree, name = 'root'):\n",
    "    split_name = tree['splitting_feature'] # split_name is something like 'term. 36 months'\n",
    "    if split_name is None:\n",
    "        print(\"(leaf, label: %s)\" % tree['prediction'])\n",
    "        return None\n",
    "    split_feature, split_value = split_name.split('.')\n",
    "    print( '                       %s' % name)\n",
    "    print( '         |---------------|----------------|')\n",
    "    print( '         |                                |')\n",
    "    print( '         |                                |')\n",
    "    print( '         |                                |')\n",
    "    print( '  [{0} == 0]               [{0} == 1]    '.format(split_name))\n",
    "    print( '         |                                |')\n",
    "    print( '         |                                |')\n",
    "    print( '         |                                |')\n",
    "    print( '    (%s)                         (%s)' \\\n",
    "        % (('leaf, label: ' + str(tree['left']['prediction']) if tree['left']['is_leaf'] else 'subtree'),\n",
    "           ('leaf, label: ' + str(tree['right']['prediction']) if tree['right']['is_leaf'] else 'subtree')))"
   ]
  },
  {
   "cell_type": "markdown",
   "metadata": {},
   "source": [
    "# traversing the tree for test_data[0]\n",
    "### as shown above, the route is: right split, left, left, left, left, left"
   ]
  },
  {
   "cell_type": "code",
   "execution_count": 175,
   "metadata": {
    "collapsed": false
   },
   "outputs": [
    {
     "name": "stdout",
     "output_type": "stream",
     "text": [
      "                       root\n",
      "         |---------------|----------------|\n",
      "         |                                |\n",
      "         |                                |\n",
      "         |                                |\n",
      "  [term. 60 months == 0]               [term. 60 months == 1]    \n",
      "         |                                |\n",
      "         |                                |\n",
      "         |                                |\n",
      "    (subtree)                         (subtree)\n"
     ]
    }
   ],
   "source": [
    "print_stump(my_decision_tree)"
   ]
  },
  {
   "cell_type": "code",
   "execution_count": 191,
   "metadata": {
    "collapsed": false
   },
   "outputs": [
    {
     "name": "stdout",
     "output_type": "stream",
     "text": [
      "                       term. 60 months\n",
      "         |---------------|----------------|\n",
      "         |                                |\n",
      "         |                                |\n",
      "         |                                |\n",
      "  [grade.A == 0]               [grade.A == 1]    \n",
      "         |                                |\n",
      "         |                                |\n",
      "         |                                |\n",
      "    (subtree)                         (subtree)\n"
     ]
    }
   ],
   "source": [
    "print_stump(my_decision_tree['right'], my_decision_tree['splitting_feature'])"
   ]
  },
  {
   "cell_type": "code",
   "execution_count": 192,
   "metadata": {
    "collapsed": false
   },
   "outputs": [
    {
     "name": "stdout",
     "output_type": "stream",
     "text": [
      "                       grade.D\n",
      "         |---------------|----------------|\n",
      "         |                                |\n",
      "         |                                |\n",
      "         |                                |\n",
      "  [emp_length.n/a == 0]               [emp_length.n/a == 1]    \n",
      "         |                                |\n",
      "         |                                |\n",
      "         |                                |\n",
      "    (subtree)                         (leaf, label: -1)\n"
     ]
    }
   ],
   "source": [
    "print_stump(my_decision_tree['right']['left'], my_decision_tree['left']['splitting_feature'])"
   ]
  },
  {
   "cell_type": "code",
   "execution_count": 193,
   "metadata": {
    "collapsed": false
   },
   "outputs": [
    {
     "name": "stdout",
     "output_type": "stream",
     "text": [
      "                       grade.D\n",
      "         |---------------|----------------|\n",
      "         |                                |\n",
      "         |                                |\n",
      "         |                                |\n",
      "  [emp_length.< 1 year == 0]               [emp_length.< 1 year == 1]    \n",
      "         |                                |\n",
      "         |                                |\n",
      "         |                                |\n",
      "    (subtree)                         (leaf, label: -1)\n"
     ]
    }
   ],
   "source": [
    "print_stump(my_decision_tree['right']['left']['left'], my_decision_tree['left']['splitting_feature'])"
   ]
  },
  {
   "cell_type": "code",
   "execution_count": 194,
   "metadata": {
    "collapsed": false
   },
   "outputs": [
    {
     "name": "stdout",
     "output_type": "stream",
     "text": [
      "                       grade.D\n",
      "         |---------------|----------------|\n",
      "         |                                |\n",
      "         |                                |\n",
      "         |                                |\n",
      "  [emp_length.9 years == 0]               [emp_length.9 years == 1]    \n",
      "         |                                |\n",
      "         |                                |\n",
      "         |                                |\n",
      "    (subtree)                         (subtree)\n"
     ]
    }
   ],
   "source": [
    "print_stump(my_decision_tree['right']['left']['left']['left'], my_decision_tree['left']['splitting_feature'])"
   ]
  },
  {
   "cell_type": "code",
   "execution_count": 195,
   "metadata": {
    "collapsed": false,
    "scrolled": true
   },
   "outputs": [
    {
     "name": "stdout",
     "output_type": "stream",
     "text": [
      "                       grade.D\n",
      "         |---------------|----------------|\n",
      "         |                                |\n",
      "         |                                |\n",
      "         |                                |\n",
      "  [emp_length.8 years == 0]               [emp_length.8 years == 1]    \n",
      "         |                                |\n",
      "         |                                |\n",
      "         |                                |\n",
      "    (leaf, label: -1)                         (leaf, label: -1)\n"
     ]
    }
   ],
   "source": [
    "print_stump(my_decision_tree['right']['left']['left']['left']['left'], my_decision_tree['left']['splitting_feature'])"
   ]
  },
  {
   "cell_type": "code",
   "execution_count": null,
   "metadata": {
    "collapsed": true
   },
   "outputs": [],
   "source": []
  }
 ],
 "metadata": {
  "kernelspec": {
   "display_name": "Python 3",
   "language": "python",
   "name": "python3"
  },
  "language_info": {
   "codemirror_mode": {
    "name": "ipython",
    "version": 3
   },
   "file_extension": ".py",
   "mimetype": "text/x-python",
   "name": "python",
   "nbconvert_exporter": "python",
   "pygments_lexer": "ipython3",
   "version": "3.5.1"
  }
 },
 "nbformat": 4,
 "nbformat_minor": 0
}
